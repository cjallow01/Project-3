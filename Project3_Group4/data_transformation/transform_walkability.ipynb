{
 "cells": [
  {
   "cell_type": "code",
   "execution_count": 1,
   "metadata": {},
   "outputs": [],
   "source": [
    "import pandas as pd"
   ]
  },
  {
   "cell_type": "code",
   "execution_count": 2,
   "metadata": {},
   "outputs": [],
   "source": [
    "#NOTE: This will not run without the walkability.csv file which is not in this repo because it's too large to upload to github. \n",
    "\n",
    "file = 'Resources/walkability.csv'\n",
    "df = pd.read_csv(file, encoding=\"ISO-8859-1\", low_memory=False)"
   ]
  },
  {
   "cell_type": "code",
   "execution_count": 4,
   "metadata": {},
   "outputs": [],
   "source": [
    "#ADD LEADING ZEROS IN FRONT OF STATE AND COUNTY TO MATCH WITH THE SCHOOL DATA 'CNTY' KEY\n",
    "df['STATEFP'] = df['STATEFP'].astype(str).apply('{:0>2}'.format)\n",
    "df['COUNTYFP'] = df['COUNTYFP'].astype(str).apply('{:0>3}'.format)\n",
    "\n",
    "#CONCATENATING 'STATEFP' WITH 'COUNTYFP' AND CREATING 'CNTY' COLUMN AS A PRIMARY KEY\n",
    "df['CNTY'] = df['STATEFP'] + df['COUNTYFP']"
   ]
  },
  {
   "cell_type": "code",
   "execution_count": 5,
   "metadata": {},
   "outputs": [],
   "source": [
    "#Break apart this large dataset into dataframes that will could be used to populate map visuals.  \n",
    "population_df = df[['STATEFP','COUNTYFP', 'TotPop', 'HH']]\n",
    "walkability_df = df[['STATEFP','COUNTYFP','NatWalkInd']]"
   ]
  },
  {
   "cell_type": "code",
   "execution_count": 6,
   "metadata": {},
   "outputs": [],
   "source": [
    "#rename the columns to better understand the data. See Resources/documentation_guide.pdf for more context. \n",
    "\n",
    "# ----- population_df ----- # \n",
    "    #population: is the population of each area. The total sum represents on total country population (pre 2022 census)\n",
    "    #households: How many homes/units in each area. \n",
    "\n",
    "# ----- walkability_df ----- # \n",
    "#walkability_score:\n",
    "    #walkability score = (w/3) + (x/3) + (y/6) + (z/6)\n",
    "#        Where w = CBG ranked score for intersection density\n",
    "#                    x = CBG ranked score for proximity to transit stops\n",
    "#                    y = CBG ranked score for employment mix\n",
    "#                    z = CBG ranked score for employment and household mix \n",
    "\n",
    "population_df = population_df.rename(columns={'STATEFP':'state','COUNTYFP':'county', 'TotPop':'population', 'HH':'households'})\n",
    "walkability_df = walkability_df.rename(columns={'STATEFP':'state','COUNTYFP':'county','NatWalkInd':'walkability_score'})"
   ]
  },
  {
   "cell_type": "code",
   "execution_count": 7,
   "metadata": {},
   "outputs": [],
   "source": [
    "#Grouping data from area into county that will be used for county data analysis and visualizations. Rounding and \n",
    "#Reseting the index to allow combining the state and county code in the next step.\n",
    "\n",
    "county_population_df = population_df.groupby(['state','county']).sum().round().reset_index()\n",
    "county_walkability_df = walkability_df.groupby(['state','county']).mean().reset_index()"
   ]
  },
  {
   "cell_type": "code",
   "execution_count": 8,
   "metadata": {},
   "outputs": [],
   "source": [
    "#Adding a unique_id that combines the state and county code. This could be used as a unique key because county codes are not unique. \n",
    "\n",
    "county_population_df['unique_id'] = county_population_df['state']+county_population_df['county']\n",
    "county_walkability_df['unique_id'] = county_walkability_df['state']+county_walkability_df['county']"
   ]
  },
  {
   "cell_type": "code",
   "execution_count": 9,
   "metadata": {},
   "outputs": [],
   "source": [
    "#Exporting dataframes to CSV files. This is needed because the Walkability.csv file is too large on it's own to upload onto Github. \n",
    "\n",
    "county_population_df.to_csv('Resources/county_population_df.csv')\n",
    "county_walkability_df.to_csv('Resources/county_walkability_df.csv')"
   ]
  },
  {
   "attachments": {},
   "cell_type": "markdown",
   "metadata": {},
   "source": [
    "Adding "
   ]
  }
 ],
 "metadata": {
  "kernelspec": {
   "display_name": "PythonDataOne",
   "language": "python",
   "name": "python3"
  },
  "language_info": {
   "codemirror_mode": {
    "name": "ipython",
    "version": 3
   },
   "file_extension": ".py",
   "mimetype": "text/x-python",
   "name": "python",
   "nbconvert_exporter": "python",
   "pygments_lexer": "ipython3",
   "version": "3.7.7 (default, May  6 2020, 11:45:54) [MSC v.1916 64 bit (AMD64)]"
  },
  "orig_nbformat": 4,
  "vscode": {
   "interpreter": {
    "hash": "ec774b470c5fe9e64d857c15c900fa4c7894f69b8ed6dc13344c7115ac1acd43"
   }
  }
 },
 "nbformat": 4,
 "nbformat_minor": 2
}
